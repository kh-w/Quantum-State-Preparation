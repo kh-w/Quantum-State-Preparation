{
  "cells": [
    {
      "cell_type": "code",
      "execution_count": 39,
      "metadata": {
        "colab": {
          "base_uri": "https://localhost:8080/"
        },
        "id": "kDthYM-OI5Hq",
        "outputId": "b3d8fad3-70d6-4b5e-b310-15f141f61c48"
      },
      "outputs": [
        {
          "name": "stdout",
          "output_type": "stream",
          "text": [
            "Requirement already satisfied: qiskit in c:\\users\\woodr\\anaconda3\\lib\\site-packages (2.0.0)\n",
            "Requirement already satisfied: pylatexenc in c:\\users\\woodr\\anaconda3\\lib\\site-packages (2.10)\n",
            "Requirement already satisfied: rustworkx>=0.15.0 in c:\\users\\woodr\\anaconda3\\lib\\site-packages (from qiskit) (0.16.0)\n",
            "Requirement already satisfied: numpy<3,>=1.17 in c:\\users\\woodr\\anaconda3\\lib\\site-packages (from qiskit) (1.22.4)\n",
            "Requirement already satisfied: scipy>=1.5 in c:\\users\\woodr\\anaconda3\\lib\\site-packages (from qiskit) (1.7.1)\n",
            "Requirement already satisfied: sympy>=1.3 in c:\\users\\woodr\\anaconda3\\lib\\site-packages (from qiskit) (1.10.1)\n",
            "Requirement already satisfied: dill>=0.3 in c:\\users\\woodr\\anaconda3\\lib\\site-packages (from qiskit) (0.3.4)\n",
            "Requirement already satisfied: python-dateutil>=2.8.0 in c:\\users\\woodr\\anaconda3\\lib\\site-packages (from qiskit) (2.8.2)\n",
            "Requirement already satisfied: stevedore>=3.0.0 in c:\\users\\woodr\\anaconda3\\lib\\site-packages (from qiskit) (5.4.1)\n",
            "Requirement already satisfied: typing-extensions in c:\\users\\woodr\\anaconda3\\lib\\site-packages (from qiskit) (4.1.1)\n",
            "Requirement already satisfied: symengine<0.14,>=0.11 in c:\\users\\woodr\\anaconda3\\lib\\site-packages (from qiskit) (0.13.0)\n",
            "Requirement already satisfied: six>=1.5 in c:\\users\\woodr\\anaconda3\\lib\\site-packages (from python-dateutil>=2.8.0->qiskit) (1.16.0)\n",
            "Requirement already satisfied: pbr>=2.0.0 in c:\\users\\woodr\\anaconda3\\lib\\site-packages (from stevedore>=3.0.0->qiskit) (6.1.1)\n",
            "Requirement already satisfied: mpmath>=0.19 in c:\\users\\woodr\\anaconda3\\lib\\site-packages (from sympy>=1.3->qiskit) (1.2.1)\n",
            "Requirement already satisfied: setuptools in c:\\users\\woodr\\anaconda3\\lib\\site-packages (from pbr>=2.0.0->stevedore>=3.0.0->qiskit) (61.2.0)\n",
            "Requirement already satisfied: qiskit-aer in c:\\users\\woodr\\anaconda3\\lib\\site-packages (0.17.0)\n",
            "Requirement already satisfied: qiskit>=1.1.0 in c:\\users\\woodr\\anaconda3\\lib\\site-packages (from qiskit-aer) (2.0.0)\n",
            "Requirement already satisfied: numpy>=1.16.3 in c:\\users\\woodr\\anaconda3\\lib\\site-packages (from qiskit-aer) (1.22.4)\n",
            "Requirement already satisfied: scipy>=1.0 in c:\\users\\woodr\\anaconda3\\lib\\site-packages (from qiskit-aer) (1.7.1)\n",
            "Requirement already satisfied: psutil>=5 in c:\\users\\woodr\\anaconda3\\lib\\site-packages (from qiskit-aer) (5.8.0)\n",
            "Requirement already satisfied: rustworkx>=0.15.0 in c:\\users\\woodr\\anaconda3\\lib\\site-packages (from qiskit>=1.1.0->qiskit-aer) (0.16.0)\n",
            "Requirement already satisfied: sympy>=1.3 in c:\\users\\woodr\\anaconda3\\lib\\site-packages (from qiskit>=1.1.0->qiskit-aer) (1.10.1)\n",
            "Requirement already satisfied: dill>=0.3 in c:\\users\\woodr\\anaconda3\\lib\\site-packages (from qiskit>=1.1.0->qiskit-aer) (0.3.4)\n",
            "Requirement already satisfied: python-dateutil>=2.8.0 in c:\\users\\woodr\\anaconda3\\lib\\site-packages (from qiskit>=1.1.0->qiskit-aer) (2.8.2)\n",
            "Requirement already satisfied: stevedore>=3.0.0 in c:\\users\\woodr\\anaconda3\\lib\\site-packages (from qiskit>=1.1.0->qiskit-aer) (5.4.1)\n",
            "Requirement already satisfied: typing-extensions in c:\\users\\woodr\\anaconda3\\lib\\site-packages (from qiskit>=1.1.0->qiskit-aer) (4.1.1)\n",
            "Requirement already satisfied: symengine<0.14,>=0.11 in c:\\users\\woodr\\anaconda3\\lib\\site-packages (from qiskit>=1.1.0->qiskit-aer) (0.13.0)\n",
            "Requirement already satisfied: six>=1.5 in c:\\users\\woodr\\anaconda3\\lib\\site-packages (from python-dateutil>=2.8.0->qiskit>=1.1.0->qiskit-aer) (1.16.0)\n",
            "Requirement already satisfied: pbr>=2.0.0 in c:\\users\\woodr\\anaconda3\\lib\\site-packages (from stevedore>=3.0.0->qiskit>=1.1.0->qiskit-aer) (6.1.1)\n",
            "Requirement already satisfied: mpmath>=0.19 in c:\\users\\woodr\\anaconda3\\lib\\site-packages (from sympy>=1.3->qiskit>=1.1.0->qiskit-aer) (1.2.1)\n",
            "Requirement already satisfied: setuptools in c:\\users\\woodr\\anaconda3\\lib\\site-packages (from pbr>=2.0.0->stevedore>=3.0.0->qiskit>=1.1.0->qiskit-aer) (61.2.0)\n"
          ]
        }
      ],
      "source": [
        "# Prepare the required packages\n",
        "\n",
        "!pip install qiskit pylatexenc;\n",
        "!pip install qiskit-aer;\n",
        "from qiskit.circuit import QuantumCircuit, QuantumRegister, AncillaRegister;\n",
        "from qiskit.quantum_info import Statevector, Operator;\n",
        "from qiskit_aer import AerSimulator;\n",
        "from qiskit import transpile;\n",
        "from qiskit.visualization import plot_histogram;\n",
        "import pylatexenc;\n",
        "import matplotlib.pyplot as plt;\n",
        "import numpy as np;\n",
        "from qiskit.circuit.library import RZGate"
      ]
    },
    {
      "cell_type": "markdown",
      "metadata": {
        "id": "achAEMYGZ5XA"
      },
      "source": [
        "![mini_proj_2_prob_3](https://drive.google.com/uc?id=1Xu7kYVS-crI-6B2owX6AD7acjgkoOxl4)\n",
        "\n"
      ]
    },
    {
      "cell_type": "code",
      "execution_count": 40,
      "metadata": {
        "id": "_S3IDBBeZ1XH"
      },
      "outputs": [],
      "source": [
        "# Resources used:\n",
        "\n",
        "# Lecture 8: Quantum Data-access Oracles and Quantum State Preparation\n",
        "# Multiplexer explained from 42:02 to 49:10\n",
        "\n",
        "# Lecture 9: Quantum State Preparation & Quantum Error Correction, part 1.\n",
        "# n=2 explained from 7:52 to 27:03\n",
        "\n",
        "# QC Boot Camp 4.ipynb last part"
      ]
    },
    {
      "cell_type": "markdown",
      "metadata": {
        "id": "oMXfqZ52eC-G"
      },
      "source": [
        "For $n=3$, we have:\\\n",
        "\\\n",
        "$\\left| \\psi \\right\\rangle=a\\left|000\\right\\rangle+b\\left|001\\right\\rangle+c\\left|010\\right\\rangle+d\\left|011\\right\\rangle+e\\left|100\\right\\rangle+f\\left|101\\right\\rangle+g\\left|110\\right\\rangle+h\\left|111\\right\\rangle$\\\n",
        "\\\n",
        "where $a$ to $h$ are all positive, and $||\\psi||^2=a^2+b^2+...+h^2=1$.\\\n",
        "\\\n",
        "Factorize in tensor product sense, note that after factorized, rotations are done by each bit:\\\n",
        "($\\color{black}{\\text{black = firstbit}}$, $\\color{blue}{\\text{blue = secondbit}}$, $\\color{red}{\\text{red = thirdbit}}$)\\\n",
        "\n",
        "$$\n",
        "\\begin{align*}\n",
        "  \\left| \\psi \\right\\rangle&=((a\\left|0\\right\\rangle+e\\left|1\\right\\rangle)\\otimes\\color{blue}{\\left|0\\right\\rangle}+(c\\left|0\\right\\rangle+g\\left|1\\right\\rangle)\\otimes\\color{blue}{\\left|1\\right\\rangle})\\otimes\\color{red}{\\left|0\\right\\rangle}+((b\\left|0\\right\\rangle+f\\left|1\\right\\rangle)\\otimes\\color{blue}{\\left|0\\right\\rangle}+(d\\left|0\\right\\rangle+h\\left|1\\right\\rangle)\\otimes\\color{blue}{\\left|1\\right\\rangle})\\otimes\\color{red}{\\left|1\\right\\rangle}\\\\\n",
        "  &=((\\cos\\bigg(\\frac{\\theta_{100}}{2}\\bigg)\\left|0\\right\\rangle+\\sin\\bigg(\\frac{\\theta_{100}}{2}\\bigg)\\left|1\\right\\rangle)\\otimes\\color{blue}{\\cos\\bigg(\\frac{\\theta_{10}}{2}\\bigg)\\left|0\\right\\rangle}+\\\\\n",
        "  &\\hspace{1cm}(\\cos\\bigg(\\frac{\\theta_{110}}{2}\\bigg)\\left|0\\right\\rangle+\\sin\\bigg(\\frac{\\theta_{110}}{2}\\bigg)\\left|1\\right\\rangle)\\otimes\\color{blue}{\\sin\\bigg(\\frac{\\theta_{10}}{2}\\bigg)\\left|1\\right\\rangle})\\otimes\\color{red}{\\cos\\bigg(\\frac{\\theta_{0}}{2}\\bigg)\\left|0\\right\\rangle}+\\\\\n",
        "  &\\hspace{1cm}((\\cos\\bigg(\\frac{\\theta_{101}}{2}\\bigg)\\left|0\\right\\rangle+\\sin\\bigg(\\frac{\\theta_{101}}{2}\\bigg)\\left|1\\right\\rangle)\\otimes\\color{blue}{\\cos\\bigg(\\frac{\\theta_{11}}{2}\\bigg)\\left|0\\right\\rangle}+\\\\\n",
        "  &\\hspace{1cm}(\\cos\\bigg(\\frac{\\theta_{111}}{2}\\bigg)\\left|0\\right\\rangle+\\sin\\bigg(\\frac{\\theta_{111}}{2}\\bigg)\\left|1\\right\\rangle)\\otimes\\color{blue}{\\sin\\bigg(\\frac{\\theta_{11}}{2}\\bigg)\\left|1\\right\\rangle})\\otimes\\color{red}{\\sin\\bigg(\\frac{\\theta_{0}}{2}\\bigg)\\left|1\\right\\rangle}\\\\\n",
        "  &=\\color{red}{\\cos\\bigg(\\frac{\\theta_{0}}{2}\\bigg)}\\color{blue}{\\cos\\bigg(\\frac{\\theta_{10}}{2}\\bigg)}\\color{black}{\\cos\\bigg(\\frac{\\theta_{100}}{2}\\bigg)}\\left|000\\right\\rangle+\\\\\n",
        "  &\\hspace{1cm}\\color{red}{\\cos\\bigg(\\frac{\\theta_{0}}{2}\\bigg)}\\color{blue}{\\cos\\bigg(\\frac{\\theta_{10}}{2}\\bigg)}\\color{black}{\\sin\\bigg(\\frac{\\theta_{100}}{2}\\bigg)}\\left|100\\right\\rangle+\\\\\n",
        "  &\\hspace{1cm}\\color{red}{\\cos\\bigg(\\frac{\\theta_{0}}{2}\\bigg)}\\color{blue}{\\sin\\bigg(\\frac{\\theta_{10}}{2}\\bigg)}\\color{black}{\\cos\\bigg(\\frac{\\theta_{110}}{2}\\bigg)}\\left|010\\right\\rangle+\\\\\n",
        "  &\\hspace{1cm}\\color{red}{\\cos\\bigg(\\frac{\\theta_{0}}{2}\\bigg)}\\color{blue}{\\sin\\bigg(\\frac{\\theta_{10}}{2}\\bigg)}\\color{black}{\\sin\\bigg(\\frac{\\theta_{110}}{2}\\bigg)}\\left|110\\right\\rangle+\\\\\n",
        "  &\\hspace{1cm}\\color{red}{\\sin\\bigg(\\frac{\\theta_{0}}{2}\\bigg)}\\color{blue}{\\cos\\bigg(\\frac{\\theta_{11}}{2}\\bigg)}\\color{black}{\\cos\\bigg(\\frac{\\theta_{101}}{2}\\bigg)}\\left|001\\right\\rangle+\\\\\n",
        "  &\\hspace{1cm}\\color{red}{\\sin\\bigg(\\frac{\\theta_{0}}{2}\\bigg)}\\color{blue}{\\cos\\bigg(\\frac{\\theta_{11}}{2}\\bigg)}\\color{black}{\\sin\\bigg(\\frac{\\theta_{101}}{2}\\bigg)}\\left|101\\right\\rangle+\\\\\n",
        "  &\\hspace{1cm}\\color{red}{\\sin\\bigg(\\frac{\\theta_{0}}{2}\\bigg)}\\color{blue}{\\sin\\bigg(\\frac{\\theta_{11}}{2}\\bigg)}\\color{black}{\\cos\\bigg(\\frac{\\theta_{111}}{2}\\bigg)}\\left|011\\right\\rangle+\\\\\n",
        "  &\\hspace{1cm}\\color{red}{\\sin\\bigg(\\frac{\\theta_{0}}{2}\\bigg)}\\color{blue}{\\sin\\bigg(\\frac{\\theta_{11}}{2}\\bigg)}\\color{black}{\\sin\\bigg(\\frac{\\theta_{111}}{2}\\bigg)}\\left|111\\right\\rangle+\\\\\n",
        "\\end{align*}\n",
        "$$\n",
        "\n"
      ]
    },
    {
      "cell_type": "markdown",
      "metadata": {
        "id": "fUpo7fc7nyv_"
      },
      "source": [
        "Looking at the basis states, we can see that $R_y(\\theta_{100})$ is applied to the first bit (top wire) when the second and third bits are $00$, $R_y(\\theta_{110})$ is applied when the second and third bits are $10$, $R_y(\\theta_{101})$ is applied when the second and third bits are $01$, $R_y(\\theta_{111})$ is applied when the second and third bits are $11$; then, $R_y(\\theta_{10})$ is applied to the second bit (middle wire) when the third bit is $0$, $R_y(\\theta_{11})$ is applied when the third bit is $1$; finally, $R_y(\\theta_0)$ is applied to the last bit. Therefore a quantum gate can be constructed by using quantum multiplexers, with the $\\theta$s defined below satisfying $\\sin^2\\theta+\\cos^2\\theta=1$ and $||\\psi||^2=a^2+b^2+...+h^2=1$:"
      ]
    },
    {
      "cell_type": "markdown",
      "metadata": {
        "id": "l6npxYcFrq1C"
      },
      "source": [
        "\n",
        "Table A:\n",
        "$$\\begin{array}{|c|c|c|} \\hline\n",
        "\\cos(\\frac{\\theta_0}{2})=\\sqrt{a^2+b^2+c^2+d^2} & \\cos(\\frac{\\theta_{10}}{2})=\\frac{\\sqrt{a^2+b^2}}{\\sqrt{a^2+b^2+c^2+d^2}} & \\cos(\\frac{\\theta_{100}}{2})=\\frac{a}{\\sqrt{a^2+b^2}} \\\\ \\hline\n",
        "\\text{same as above} & \\text{same as above} & \\sin(\\frac{\\theta_{100}}{2})=\\frac{b}{\\sqrt{a^2+b^2}} \\\\ \\hline\n",
        "\\text{same as above} & \\sin(\\frac{\\theta_{10}}{2})=\\frac{\\sqrt{c^2+d^2}}{\\sqrt{a^2+b^2+c^2+d^2}} & \\cos(\\frac{\\theta_{110}}{2})=\\frac{c}{\\sqrt{c^2+d^2}} \\\\ \\hline\n",
        "\\text{same as above} & \\text{same as above} & \\sin(\\frac{\\theta_{110}}{2})=\\frac{d}{\\sqrt{c^2+d^2}} \\\\ \\hline\n",
        "\\sin(\\frac{\\theta_0}{2})=\\sqrt{e^2+f^2+g^2+h^2} & \\cos(\\frac{\\theta_{11}}{2})=\\frac{\\sqrt{e^2+f^2}}{\\sqrt{e^2+f^2+g^2+h^2}} & \\cos(\\frac{\\theta_{101}}{2})=\\frac{e}{\\sqrt{e^2+f^2}} \\\\ \\hline\n",
        "\\text{same as above} & \\text{same as above} & \\sin(\\frac{\\theta_{101}}{2})=\\frac{f}{\\sqrt{e^2+f^2}} \\\\ \\hline\n",
        "\\text{same as above} & \\sin(\\frac{\\theta_{11}}{2})=\\frac{\\sqrt{g^2+h^2}}{\\sqrt{e^2+f^2+g^2+h^2}} & \\cos(\\frac{\\theta_{111}}{2})=\\frac{g}{\\sqrt{g^2+h^2}} \\\\ \\hline\n",
        "\\text{same as above} & \\text{same as above} & \\sin(\\frac{\\theta_{111}}{2})=\\frac{h}{\\sqrt{g^2+h^2}} \\\\ \\hline\n",
        "\\end{array}$$"
      ]
    },
    {
      "cell_type": "markdown",
      "metadata": {
        "id": "Ii_jEEkAvUIT"
      },
      "source": [
        "Suppose we are going to prepare a fixed state generated randomly:"
      ]
    },
    {
      "cell_type": "code",
      "execution_count": 55,
      "metadata": {
        "colab": {
          "base_uri": "https://localhost:8080/"
        },
        "id": "lHikdbl7wO4u",
        "outputId": "a03c99dd-4438-4928-aeb2-acae099d9b14"
      },
      "outputs": [
        {
          "data": {
            "text/plain": [
              "1.0"
            ]
          },
          "execution_count": 55,
          "metadata": {},
          "output_type": "execute_result"
        }
      ],
      "source": [
        "import random\n",
        "\n",
        "random.seed(1)\n",
        "\n",
        "random_numbers = [random.randint(1, 100) for _ in range(8)]\n",
        "\n",
        "psi = random_numbers / np.sqrt(np.dot(random_numbers, random_numbers))\n",
        "\n",
        "np.linalg.norm(psi) # check the norm"
      ]
    },
    {
      "cell_type": "code",
      "execution_count": 42,
      "metadata": {
        "id": "ChhagPv69dya"
      },
      "outputs": [],
      "source": [
        "# Create R_y gate using R_y = S'H(R_z)HS\n",
        "\n",
        "def custom_R_y_gate(theta):\n",
        "\n",
        "  quantum_register = QuantumRegister(size=1, name=\"x\")\n",
        "\n",
        "  qc_ry = QuantumCircuit(quantum_register)\n",
        "\n",
        "  qc_ry.s(quantum_register[0])\n",
        "  qc_ry.h(quantum_register[0])\n",
        "  qc_ry.rz(theta, quantum_register[0])\n",
        "  qc_ry.h(quantum_register[0])\n",
        "  qc_ry.s(quantum_register[0])\n",
        "\n",
        "  return qc_ry.to_gate(label=\"custom_R_y_gate\")"
      ]
    },
    {
      "cell_type": "code",
      "execution_count": 43,
      "metadata": {
        "id": "PVq0ZspsZ2Vh"
      },
      "outputs": [],
      "source": [
        "theta_0 = 2 * np.arccos(np.sqrt(np.sum(np.square(psi[:4]))))\n",
        "theta_10 = 2 * np.arccos(np.sqrt(np.sum(np.square(psi[:2]))) / np.sqrt(np.sum(np.square(psi[:4]))))\n",
        "theta_11 = 2 * np.arccos(np.sqrt(np.sum(np.square(psi[4:6]))) / np.sqrt(np.sum(np.square(psi[4:8]))))\n",
        "theta_100 = 2 * np.arccos(psi[0] / np.sqrt(np.sum(np.square(psi[:2]))))\n",
        "theta_110 = 2 * np.arccos(psi[2] / np.sqrt(np.sum(np.square(psi[2:4]))))\n",
        "theta_101 = 2 * np.arccos(psi[4] / np.sqrt(np.sum(np.square(psi[4:6]))))\n",
        "theta_111 = 2 * np.arccos(psi[6] / np.sqrt(np.sum(np.square(psi[6:8]))))"
      ]
    },
    {
      "cell_type": "code",
      "execution_count": 44,
      "metadata": {
        "colab": {
          "base_uri": "https://localhost:8080/",
          "height": 513
        },
        "id": "7ZfhX2YKZ2S6",
        "outputId": "f4221ff4-0678-49a3-c7c1-66bbce07b4ef"
      },
      "outputs": [
        {
          "data": {
            "image/png": "[encoded data removed]",
            "text/plain": [
              "<Figure size 1802.35x163.744 with 1 Axes>"
            ]
          },
          "execution_count": 44,
          "metadata": {},
          "output_type": "execute_result"
        }
      ],
      "source": [
        "quantum_register = QuantumRegister(size=3, name=\"x\")\n",
        "\n",
        "qsp_circ = QuantumCircuit(quantum_register, name=\"Quantum State Preparation\")\n",
        "\n",
        "qsp_circ.append(custom_R_y_gate(theta_0), [quantum_register[2]])\n",
        "\n",
        "qsp_circ.barrier()\n",
        "\n",
        "qsp_circ.x(quantum_register[2])\n",
        "mcry = custom_R_y_gate(theta_10).control(1)\n",
        "qsp_circ.append(mcry, [quantum_register[2], quantum_register[1]])\n",
        "qsp_circ.x(quantum_register[2])\n",
        "\n",
        "qsp_circ.barrier()\n",
        "\n",
        "mcry = custom_R_y_gate(theta_11).control(1)\n",
        "qsp_circ.append(mcry, [quantum_register[2], quantum_register[1]])\n",
        "\n",
        "qsp_circ.barrier()\n",
        "\n",
        "qsp_circ.x(quantum_register[1])\n",
        "qsp_circ.x(quantum_register[2])\n",
        "mcry = custom_R_y_gate(theta_100).control(2)\n",
        "qsp_circ.append(mcry, [quantum_register[1], quantum_register[2], quantum_register[0]])\n",
        "qsp_circ.x(quantum_register[2])\n",
        "qsp_circ.x(quantum_register[1])\n",
        "\n",
        "qsp_circ.barrier()\n",
        "\n",
        "qsp_circ.x(quantum_register[2])\n",
        "mcry = custom_R_y_gate(theta_110).control(2)\n",
        "qsp_circ.append(mcry, [quantum_register[1], quantum_register[2], quantum_register[0]])\n",
        "qsp_circ.x(quantum_register[2])\n",
        "\n",
        "qsp_circ.barrier()\n",
        "\n",
        "qsp_circ.x(quantum_register[1])\n",
        "mcry = custom_R_y_gate(theta_101).control(2)\n",
        "qsp_circ.append(mcry, [quantum_register[1], quantum_register[2], quantum_register[0]])\n",
        "qsp_circ.x(quantum_register[1])\n",
        "\n",
        "qsp_circ.barrier()\n",
        "\n",
        "mcry = custom_R_y_gate(theta_111).control(2)\n",
        "qsp_circ.append(mcry, [quantum_register[1], quantum_register[2], quantum_register[0]])\n",
        "\n",
        "qsp_circ.barrier()\n",
        "\n",
        "qsp_circ.draw(output=\"mpl\", scale = 0.8, fold = False)"
      ]
    },
    {
      "cell_type": "code",
      "execution_count": 56,
      "metadata": {},
      "outputs": [],
      "source": [
        "def n3_quantum_state_prep(psi):\n",
        "\n",
        "    theta_0 = 2 * np.arccos(np.sqrt(np.sum(np.square(psi[:4]))))\n",
        "    theta_10 = 2 * np.arccos(np.sqrt(np.sum(np.square(psi[:2]))) / np.sqrt(np.sum(np.square(psi[:4]))))\n",
        "    theta_11 = 2 * np.arccos(np.sqrt(np.sum(np.square(psi[4:6]))) / np.sqrt(np.sum(np.square(psi[4:8]))))\n",
        "    theta_100 = 2 * np.arccos(psi[0] / np.sqrt(np.sum(np.square(psi[:2]))))\n",
        "    theta_110 = 2 * np.arccos(psi[2] / np.sqrt(np.sum(np.square(psi[2:4]))))\n",
        "    theta_101 = 2 * np.arccos(psi[4] / np.sqrt(np.sum(np.square(psi[4:6]))))\n",
        "    theta_111 = 2 * np.arccos(psi[6] / np.sqrt(np.sum(np.square(psi[6:8]))))\n",
        "\n",
        "    quantum_register = QuantumRegister(size=3, name=\"x\")\n",
        "\n",
        "    qsp_circ = QuantumCircuit(quantum_register, name=\"Quantum State Preparation\")\n",
        "\n",
        "    qsp_circ.append(custom_R_y_gate(theta_0), [quantum_register[2]])\n",
        "\n",
        "    qsp_circ.x(quantum_register[2])\n",
        "    mcry = custom_R_y_gate(theta_10).control(1)\n",
        "    qsp_circ.append(mcry, [quantum_register[2], quantum_register[1]])\n",
        "    qsp_circ.x(quantum_register[2])\n",
        "\n",
        "    mcry = custom_R_y_gate(theta_11).control(1)\n",
        "    qsp_circ.append(mcry, [quantum_register[2], quantum_register[1]])\n",
        "\n",
        "    qsp_circ.x(quantum_register[1])\n",
        "    qsp_circ.x(quantum_register[2])\n",
        "    mcry = custom_R_y_gate(theta_100).control(2)\n",
        "    qsp_circ.append(mcry, [quantum_register[1], quantum_register[2], quantum_register[0]])\n",
        "    qsp_circ.x(quantum_register[2])\n",
        "    qsp_circ.x(quantum_register[1])\n",
        "\n",
        "    qsp_circ.x(quantum_register[2])\n",
        "    mcry = custom_R_y_gate(theta_110).control(2)\n",
        "    qsp_circ.append(mcry, [quantum_register[1], quantum_register[2], quantum_register[0]])\n",
        "    qsp_circ.x(quantum_register[2])\n",
        "\n",
        "    qsp_circ.x(quantum_register[1])\n",
        "    mcry = custom_R_y_gate(theta_101).control(2)\n",
        "    qsp_circ.append(mcry, [quantum_register[1], quantum_register[2], quantum_register[0]])\n",
        "    qsp_circ.x(quantum_register[1])\n",
        "\n",
        "    mcry = custom_R_y_gate(theta_111).control(2)\n",
        "    qsp_circ.append(mcry, [quantum_register[1], quantum_register[2], quantum_register[0]])\n",
        "\n",
        "    psi_new = Statevector(qsp_circ).data\n",
        "\n",
        "    return psi_new"
      ]
    },
    {
      "cell_type": "code",
      "execution_count": 57,
      "metadata": {},
      "outputs": [
        {
          "data": {
            "text/plain": [
              "array([0.10326596+2.74086309e-16j, 0.41880083+9.71445147e-17j,\n",
              "       0.56222577+1.11022302e-16j, 0.05163298-3.12250226e-17j,\n",
              "       0.18932092-1.38777878e-16j, 0.09179196-1.17961196e-16j,\n",
              "       0.36716785-1.38777878e-16j, 0.56222577+2.22044605e-16j])"
            ]
          },
          "execution_count": 57,
          "metadata": {},
          "output_type": "execute_result"
        }
      ],
      "source": [
        "n3_quantum_state_prep(psi)"
      ]
    },
    {
      "cell_type": "code",
      "execution_count": 59,
      "metadata": {},
      "outputs": [
        {
          "data": {
            "text/plain": [
              "array([-0., -0., -0.,  0., -0., -0., -0., -0.])"
            ]
          },
          "execution_count": 59,
          "metadata": {},
          "output_type": "execute_result"
        }
      ],
      "source": [
        "# Check the answer\n",
        "\n",
        "np.round(np.real(n3_quantum_state_prep(psi)) - psi, 0)"
      ]
    },
    {
      "cell_type": "markdown",
      "metadata": {
        "id": "YxG4uyMKAYPA"
      },
      "source": [
        "Table A above can be extended easily when $n=4$:\\\n",
        "\\\n",
        "Table B ($n=4$), where only first row is given to demonstrate, other rows are easy to find:\n",
        "\\\n",
        "\\\n",
        "![n_equals_4](https://drive.google.com/uc?id=1oToStd8b5iZq6RhwlEky_G91JA2POcFI)\n"
      ]
    },
    {
      "cell_type": "code",
      "execution_count": 61,
      "metadata": {
        "colab": {
          "base_uri": "https://localhost:8080/"
        },
        "id": "jaMA306TZ2LM",
        "outputId": "8ad2f34c-c73c-4fe4-ded9-2762529c20bd"
      },
      "outputs": [
        {
          "data": {
            "text/plain": [
              "0.9999999999999999"
            ]
          },
          "execution_count": 61,
          "metadata": {},
          "output_type": "execute_result"
        }
      ],
      "source": [
        "import random\n",
        "\n",
        "random.seed(1)\n",
        "\n",
        "random_numbers = [random.randint(1, 100) for _ in range(16)]\n",
        "\n",
        "psi = random_numbers / np.sqrt(np.dot(random_numbers, random_numbers))\n",
        "\n",
        "np.linalg.norm(psi) # check the norm"
      ]
    },
    {
      "cell_type": "code",
      "execution_count": 50,
      "metadata": {
        "id": "7WzH06ArZ2IN"
      },
      "outputs": [],
      "source": [
        "theta_0 = 2 * np.arccos(np.sqrt(np.sum(np.square(psi[:8]))))\n",
        "theta_10 = 2 * np.arccos(np.sqrt(np.sum(np.square(psi[:4]))) / np.sqrt(np.sum(np.square(psi[:8]))))\n",
        "theta_11 = 2 * np.arccos(np.sqrt(np.sum(np.square(psi[8:12]))) / np.sqrt(np.sum(np.square(psi[8:16]))))\n",
        "theta_100 = 2 * np.arccos(np.sqrt(np.sum(np.square(psi[:2]))) / np.sqrt(np.sum(np.square(psi[:4]))))\n",
        "theta_110 = 2 * np.arccos(np.sqrt(np.sum(np.square(psi[4:6]))) / np.sqrt(np.sum(np.square(psi[4:8]))))\n",
        "theta_101 = 2 * np.arccos(np.sqrt(np.sum(np.square(psi[8:10]))) / np.sqrt(np.sum(np.square(psi[8:12]))))\n",
        "theta_111 = 2 * np.arccos(np.sqrt(np.sum(np.square(psi[12:14]))) / np.sqrt(np.sum(np.square(psi[12:16]))))\n",
        "theta_1000 = 2 * np.arccos(psi[0] / np.sqrt(np.sum(np.square(psi[:2]))))\n",
        "theta_1100 = 2 * np.arccos(psi[2] / np.sqrt(np.sum(np.square(psi[2:4]))))\n",
        "theta_1010 = 2 * np.arccos(psi[4] / np.sqrt(np.sum(np.square(psi[4:6]))))\n",
        "theta_1110 = 2 * np.arccos(psi[6] / np.sqrt(np.sum(np.square(psi[6:8]))))\n",
        "theta_1001 = 2 * np.arccos(psi[8] / np.sqrt(np.sum(np.square(psi[8:10]))))\n",
        "theta_1101 = 2 * np.arccos(psi[10] / np.sqrt(np.sum(np.square(psi[10:12]))))\n",
        "theta_1011 = 2 * np.arccos(psi[12] / np.sqrt(np.sum(np.square(psi[12:14]))))\n",
        "theta_1111 = 2 * np.arccos(psi[14] / np.sqrt(np.sum(np.square(psi[14:16]))))"
      ]
    },
    {
      "cell_type": "code",
      "execution_count": 51,
      "metadata": {
        "colab": {
          "base_uri": "https://localhost:8080/",
          "height": 125
        },
        "id": "kU4xuob4Z2FR",
        "outputId": "c87f1256-87c5-4cca-b534-4f407a6850c3"
      },
      "outputs": [
        {
          "data": {
            "image/png": "[encoded data removed]",
            "text/plain": [
              "<Figure size 2511.07x132.44 with 1 Axes>"
            ]
          },
          "execution_count": 51,
          "metadata": {},
          "output_type": "execute_result"
        }
      ],
      "source": [
        "quantum_register = QuantumRegister(size=4, name=\"x\")\n",
        "\n",
        "qsp_circ = QuantumCircuit(quantum_register, name=\"Quantum State Preparation\")\n",
        "\n",
        "qsp_circ.append(custom_R_y_gate(theta_0), [quantum_register[3]])\n",
        "\n",
        "qsp_circ.barrier()\n",
        "\n",
        "qsp_circ.x(quantum_register[3])\n",
        "mcry = custom_R_y_gate(theta_10).control(1)\n",
        "qsp_circ.append(mcry, [quantum_register[3], quantum_register[2]])\n",
        "qsp_circ.x(quantum_register[3])\n",
        "\n",
        "qsp_circ.barrier()\n",
        "\n",
        "mcry = custom_R_y_gate(theta_11).control(1)\n",
        "qsp_circ.append(mcry, [quantum_register[3], quantum_register[2]])\n",
        "\n",
        "qsp_circ.barrier()\n",
        "\n",
        "qsp_circ.x(quantum_register[2])\n",
        "qsp_circ.x(quantum_register[3])\n",
        "mcry = custom_R_y_gate(theta_100).control(2)\n",
        "qsp_circ.append(mcry, [quantum_register[2], quantum_register[3], quantum_register[1]])\n",
        "qsp_circ.x(quantum_register[3])\n",
        "qsp_circ.x(quantum_register[2])\n",
        "\n",
        "qsp_circ.barrier()\n",
        "\n",
        "qsp_circ.x(quantum_register[3])\n",
        "mcry = custom_R_y_gate(theta_110).control(2)\n",
        "qsp_circ.append(mcry, [quantum_register[2], quantum_register[3], quantum_register[1]])\n",
        "qsp_circ.x(quantum_register[3])\n",
        "\n",
        "qsp_circ.barrier()\n",
        "\n",
        "qsp_circ.x(quantum_register[2])\n",
        "mcry = custom_R_y_gate(theta_101).control(2)\n",
        "qsp_circ.append(mcry, [quantum_register[2], quantum_register[3], quantum_register[1]])\n",
        "qsp_circ.x(quantum_register[2])\n",
        "\n",
        "qsp_circ.barrier()\n",
        "\n",
        "mcry = custom_R_y_gate(theta_111).control(2)\n",
        "qsp_circ.append(mcry, [quantum_register[2], quantum_register[3], quantum_register[1]])\n",
        "\n",
        "qsp_circ.barrier()\n",
        "\n",
        "qsp_circ.x(quantum_register[1])\n",
        "qsp_circ.x(quantum_register[2])\n",
        "qsp_circ.x(quantum_register[3])\n",
        "mcry = custom_R_y_gate(theta_1000).control(3)\n",
        "qsp_circ.append(mcry, [quantum_register[1], quantum_register[2], quantum_register[3], quantum_register[0]])\n",
        "qsp_circ.x(quantum_register[3])\n",
        "qsp_circ.x(quantum_register[2])\n",
        "qsp_circ.x(quantum_register[1])\n",
        "\n",
        "qsp_circ.barrier()\n",
        "\n",
        "qsp_circ.x(quantum_register[2])\n",
        "qsp_circ.x(quantum_register[3])\n",
        "mcry = custom_R_y_gate(theta_1100).control(3)\n",
        "qsp_circ.append(mcry, [quantum_register[1], quantum_register[2], quantum_register[3], quantum_register[0]])\n",
        "qsp_circ.x(quantum_register[3])\n",
        "qsp_circ.x(quantum_register[2])\n",
        "\n",
        "qsp_circ.barrier()\n",
        "\n",
        "qsp_circ.x(quantum_register[1])\n",
        "qsp_circ.x(quantum_register[3])\n",
        "mcry = custom_R_y_gate(theta_1010).control(3)\n",
        "qsp_circ.append(mcry, [quantum_register[1], quantum_register[2], quantum_register[3], quantum_register[0]])\n",
        "qsp_circ.x(quantum_register[3])\n",
        "qsp_circ.x(quantum_register[1])\n",
        "\n",
        "qsp_circ.barrier()\n",
        "\n",
        "qsp_circ.x(quantum_register[3])\n",
        "mcry = custom_R_y_gate(theta_1110).control(3)\n",
        "qsp_circ.append(mcry, [quantum_register[1], quantum_register[2], quantum_register[3], quantum_register[0]])\n",
        "qsp_circ.x(quantum_register[3])\n",
        "\n",
        "qsp_circ.barrier()\n",
        "\n",
        "qsp_circ.x(quantum_register[1])\n",
        "qsp_circ.x(quantum_register[2])\n",
        "mcry = custom_R_y_gate(theta_1001).control(3)\n",
        "qsp_circ.append(mcry, [quantum_register[1], quantum_register[2], quantum_register[3], quantum_register[0]])\n",
        "qsp_circ.x(quantum_register[2])\n",
        "qsp_circ.x(quantum_register[1])\n",
        "\n",
        "qsp_circ.barrier()\n",
        "\n",
        "qsp_circ.x(quantum_register[2])\n",
        "mcry = custom_R_y_gate(theta_1101).control(3)\n",
        "qsp_circ.append(mcry, [quantum_register[1], quantum_register[2], quantum_register[3], quantum_register[0]])\n",
        "qsp_circ.x(quantum_register[2])\n",
        "\n",
        "qsp_circ.barrier()\n",
        "\n",
        "qsp_circ.x(quantum_register[1])\n",
        "mcry = custom_R_y_gate(theta_1011).control(3)\n",
        "qsp_circ.append(mcry, [quantum_register[1], quantum_register[2], quantum_register[3], quantum_register[0]])\n",
        "qsp_circ.x(quantum_register[1])\n",
        "\n",
        "qsp_circ.barrier()\n",
        "\n",
        "mcry = custom_R_y_gate(theta_1111).control(3)\n",
        "qsp_circ.append(mcry, [quantum_register[1], quantum_register[2], quantum_register[3], quantum_register[0]])\n",
        "\n",
        "qsp_circ.barrier()\n",
        "\n",
        "qsp_circ.draw(output=\"mpl\", scale=0.5, fold=False)"
      ]
    },
    {
      "cell_type": "code",
      "execution_count": 62,
      "metadata": {
        "id": "JbKtdbQxZ2Cf"
      },
      "outputs": [],
      "source": [
        "def n4_quantum_state_prep_circuit(psi):\n",
        "\n",
        "    theta_0 = 2 * np.arccos(np.sqrt(np.sum(np.square(psi[:8]))))\n",
        "    theta_10 = 2 * np.arccos(np.sqrt(np.sum(np.square(psi[:4]))) / np.sqrt(np.sum(np.square(psi[:8]))))\n",
        "    theta_11 = 2 * np.arccos(np.sqrt(np.sum(np.square(psi[8:12]))) / np.sqrt(np.sum(np.square(psi[8:16]))))\n",
        "    theta_100 = 2 * np.arccos(np.sqrt(np.sum(np.square(psi[:2]))) / np.sqrt(np.sum(np.square(psi[:4]))))\n",
        "    theta_110 = 2 * np.arccos(np.sqrt(np.sum(np.square(psi[4:6]))) / np.sqrt(np.sum(np.square(psi[4:8]))))\n",
        "    theta_101 = 2 * np.arccos(np.sqrt(np.sum(np.square(psi[8:10]))) / np.sqrt(np.sum(np.square(psi[8:12]))))\n",
        "    theta_111 = 2 * np.arccos(np.sqrt(np.sum(np.square(psi[12:14]))) / np.sqrt(np.sum(np.square(psi[12:16]))))\n",
        "    theta_1000 = 2 * np.arccos(psi[0] / np.sqrt(np.sum(np.square(psi[:2]))))\n",
        "    theta_1100 = 2 * np.arccos(psi[2] / np.sqrt(np.sum(np.square(psi[2:4]))))\n",
        "    theta_1010 = 2 * np.arccos(psi[4] / np.sqrt(np.sum(np.square(psi[4:6]))))\n",
        "    theta_1110 = 2 * np.arccos(psi[6] / np.sqrt(np.sum(np.square(psi[6:8]))))\n",
        "    theta_1001 = 2 * np.arccos(psi[8] / np.sqrt(np.sum(np.square(psi[8:10]))))\n",
        "    theta_1101 = 2 * np.arccos(psi[10] / np.sqrt(np.sum(np.square(psi[10:12]))))\n",
        "    theta_1011 = 2 * np.arccos(psi[12] / np.sqrt(np.sum(np.square(psi[12:14]))))\n",
        "    theta_1111 = 2 * np.arccos(psi[14] / np.sqrt(np.sum(np.square(psi[14:16]))))\n",
        "\n",
        "    quantum_register = QuantumRegister(size=4, name=\"x\")\n",
        "\n",
        "    qsp_circ = QuantumCircuit(quantum_register, name=\"Quantum State Preparation\")\n",
        "\n",
        "    qsp_circ.append(custom_R_y_gate(theta_0), [quantum_register[3]])\n",
        "\n",
        "    qsp_circ.x(quantum_register[3])\n",
        "    mcry = custom_R_y_gate(theta_10).control(1)\n",
        "    qsp_circ.append(mcry, [quantum_register[3], quantum_register[2]])\n",
        "    qsp_circ.x(quantum_register[3])\n",
        "\n",
        "    mcry = custom_R_y_gate(theta_11).control(1)\n",
        "    qsp_circ.append(mcry, [quantum_register[3], quantum_register[2]])\n",
        "\n",
        "    qsp_circ.x(quantum_register[2])\n",
        "    qsp_circ.x(quantum_register[3])\n",
        "    mcry = custom_R_y_gate(theta_100).control(2)\n",
        "    qsp_circ.append(mcry, [quantum_register[2], quantum_register[3], quantum_register[1]])\n",
        "    qsp_circ.x(quantum_register[3])\n",
        "    qsp_circ.x(quantum_register[2])\n",
        "\n",
        "    qsp_circ.x(quantum_register[3])\n",
        "    mcry = custom_R_y_gate(theta_110).control(2)\n",
        "    qsp_circ.append(mcry, [quantum_register[2], quantum_register[3], quantum_register[1]])\n",
        "    qsp_circ.x(quantum_register[3])\n",
        "\n",
        "    qsp_circ.x(quantum_register[2])\n",
        "    mcry = custom_R_y_gate(theta_101).control(2)\n",
        "    qsp_circ.append(mcry, [quantum_register[2], quantum_register[3], quantum_register[1]])\n",
        "    qsp_circ.x(quantum_register[2])\n",
        "\n",
        "    mcry = custom_R_y_gate(theta_111).control(2)\n",
        "    qsp_circ.append(mcry, [quantum_register[2], quantum_register[3], quantum_register[1]])\n",
        "\n",
        "    qsp_circ.x(quantum_register[1])\n",
        "    qsp_circ.x(quantum_register[2])\n",
        "    qsp_circ.x(quantum_register[3])\n",
        "    mcry = custom_R_y_gate(theta_1000).control(3)\n",
        "    qsp_circ.append(mcry, [quantum_register[1], quantum_register[2], quantum_register[3], quantum_register[0]])\n",
        "    qsp_circ.x(quantum_register[3])\n",
        "    qsp_circ.x(quantum_register[2])\n",
        "    qsp_circ.x(quantum_register[1])\n",
        "\n",
        "    qsp_circ.x(quantum_register[2])\n",
        "    qsp_circ.x(quantum_register[3])\n",
        "    mcry = custom_R_y_gate(theta_1100).control(3)\n",
        "    qsp_circ.append(mcry, [quantum_register[1], quantum_register[2], quantum_register[3], quantum_register[0]])\n",
        "    qsp_circ.x(quantum_register[3])\n",
        "    qsp_circ.x(quantum_register[2])\n",
        "\n",
        "    qsp_circ.x(quantum_register[1])\n",
        "    qsp_circ.x(quantum_register[3])\n",
        "    mcry = custom_R_y_gate(theta_1010).control(3)\n",
        "    qsp_circ.append(mcry, [quantum_register[1], quantum_register[2], quantum_register[3], quantum_register[0]])\n",
        "    qsp_circ.x(quantum_register[3])\n",
        "    qsp_circ.x(quantum_register[1])\n",
        "\n",
        "    qsp_circ.x(quantum_register[3])\n",
        "    mcry = custom_R_y_gate(theta_1110).control(3)\n",
        "    qsp_circ.append(mcry, [quantum_register[1], quantum_register[2], quantum_register[3], quantum_register[0]])\n",
        "    qsp_circ.x(quantum_register[3])\n",
        "\n",
        "    qsp_circ.x(quantum_register[1])\n",
        "    qsp_circ.x(quantum_register[2])\n",
        "    mcry = custom_R_y_gate(theta_1001).control(3)\n",
        "    qsp_circ.append(mcry, [quantum_register[1], quantum_register[2], quantum_register[3], quantum_register[0]])\n",
        "    qsp_circ.x(quantum_register[2])\n",
        "    qsp_circ.x(quantum_register[1])\n",
        "\n",
        "    qsp_circ.x(quantum_register[2])\n",
        "    mcry = custom_R_y_gate(theta_1101).control(3)\n",
        "    qsp_circ.append(mcry, [quantum_register[1], quantum_register[2], quantum_register[3], quantum_register[0]])\n",
        "    qsp_circ.x(quantum_register[2])\n",
        "\n",
        "    qsp_circ.x(quantum_register[1])\n",
        "    mcry = custom_R_y_gate(theta_1011).control(3)\n",
        "    qsp_circ.append(mcry, [quantum_register[1], quantum_register[2], quantum_register[3], quantum_register[0]])\n",
        "    qsp_circ.x(quantum_register[1])\n",
        "\n",
        "    mcry = custom_R_y_gate(theta_1111).control(3)\n",
        "    qsp_circ.append(mcry, [quantum_register[1], quantum_register[2], quantum_register[3], quantum_register[0]])\n",
        "\n",
        "    psi_new = Statevector(qsp_circ).data\n",
        "\n",
        "    return psi_new"
      ]
    },
    {
      "cell_type": "code",
      "execution_count": 63,
      "metadata": {
        "colab": {
          "base_uri": "https://localhost:8080/"
        },
        "id": "YcId2q2nZ1_o",
        "outputId": "450f0afa-f4e6-412e-8bbd-5a374e25367a"
      },
      "outputs": [
        {
          "data": {
            "text/plain": [
              "array([-0., -0., -0., -0., -0., -0., -0., -0., -0., -0., -0., -0., -0.,\n",
              "       -0., -0., -0.])"
            ]
          },
          "execution_count": 63,
          "metadata": {},
          "output_type": "execute_result"
        }
      ],
      "source": [
        "# Check the answer\n",
        "\n",
        "np.round(np.real(n4_quantum_state_prep_circuit(psi)) - psi, 0)"
      ]
    },
    {
      "cell_type": "code",
      "execution_count": null,
      "metadata": {
        "id": "NZBPCw6yZ16P"
      },
      "outputs": [],
      "source": []
    }
  ],
  "metadata": {
    "colab": {
      "provenance": []
    },
    "kernelspec": {
      "display_name": "base",
      "language": "python",
      "name": "python3"
    },
    "language_info": {
      "codemirror_mode": {
        "name": "ipython",
        "version": 3
      },
      "file_extension": ".py",
      "mimetype": "text/x-python",
      "name": "python",
      "nbconvert_exporter": "python",
      "pygments_lexer": "ipython3",
      "version": "3.9.12"
    }
  },
  "nbformat": 4,
  "nbformat_minor": 0
}
